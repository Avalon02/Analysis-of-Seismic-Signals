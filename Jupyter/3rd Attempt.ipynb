{
 "cells": [
  {
   "cell_type": "code",
   "execution_count": 6,
   "metadata": {},
   "outputs": [],
   "source": [
    "import pandas as pd\n",
    "import numpy as np\n",
    "import matplotlib.pyplot as plt\n",
    "\n",
    "import os\n",
    "from pathlib import Path\n",
    "\n",
    "import h5py\n",
    "\n",
    "import scipy\n",
    "from scipy import signal\n",
    "import scipy.io\n",
    "\n",
    "import tensorflow as tf\n",
    "from tensorflow.keras.layers import Convolution1D, Dense, MaxPooling1D, Flatten\n",
    "from tensorflow.keras.models import Sequential"
   ]
  },
  {
   "cell_type": "code",
   "execution_count": 7,
   "metadata": {},
   "outputs": [],
   "source": [
    "# mat = pd.read_table(r'C:\\Users\\DELL\\Desktop\\Seismic Data\\Human\\DevendraRun2LRGS20DX10Hz1event.mat',header=None)\n",
    "mat = scipy.io.loadmat(r'C:\\Users\\bansa\\Documents\\Python\\csio_rw\\Data\\Seismic Data\\Run\\DevendraRun2LRGS20DX10Hz1event.mat')\n",
    "# print(mat.keys())\n",
    "a = mat['Data1_SNG20DX10Hz1']\n",
    "# plt.figure()\n",
    "# plt.plot(a)\n"
   ]
  },
  {
   "cell_type": "code",
   "execution_count": 8,
   "metadata": {},
   "outputs": [],
   "source": [
    "mat = scipy.io.loadmat(r'C:\\Users\\bansa\\Documents\\Python\\csio_rw\\Data\\Seismic Data\\Walk\\DevendraWalk3LRGS20DX10Hz1event.mat')\n",
    "# print(mat.keys())\n",
    "a = mat['Data1_SNG20DX10Hz1']\n",
    "# plt.figure()\n",
    "# plt.plot(a)"
   ]
  },
  {
   "cell_type": "code",
   "execution_count": 9,
   "metadata": {},
   "outputs": [],
   "source": [
    "path = r'C:\\Users\\bansa\\Documents\\Python\\csio_rw\\Data\\Seismic Data\\Walk'\n",
    "dir_list = os.listdir(path)\n",
    "\n",
    "df = pd.DataFrame()\n",
    "\n",
    "for file in dir_list:\n",
    "    mat = scipy.io.loadmat(path+'\\\\'+file)\n",
    "    # print(m.keys())\n",
    "    a = mat['Data1_SNG20DX10Hz1']\n",
    "    a = pd.DataFrame((a - np.mean(a))/20)\n",
    "    df = pd.concat([df, a], axis=1)\n",
    "\n",
    "df = df.fillna(0)\n",
    "df = df.T.reset_index().drop('index',axis=1).T"
   ]
  },
  {
   "cell_type": "code",
   "execution_count": 10,
   "metadata": {},
   "outputs": [],
   "source": [
    "ts = np.empty([0,250])\n",
    "\n",
    "for j in range(df.shape[1]):\n",
    "    \n",
    "    t = df[j]\n",
    "    # print(type(t))\n",
    "    # print(np.shape(t))\n",
    "\n",
    "    l = []\n",
    "    th1 = 0.0000075\n",
    "    th2 = -0.0000075\n",
    "    for i in range(len(t)):\n",
    "        if t[i]>th1 or t[i]<th2:\n",
    "            l.append(i)\n",
    "    # print(l)\n",
    "\n",
    "    lf = []\n",
    "    lf.append(l[0])\n",
    "    for i in range(len(l)-1):\n",
    "        if l[i]+150 < l[i+1]:\n",
    "            lf.append(l[i+1])\n",
    "    # print(lf)\n",
    "\n",
    "    for i in range(len(lf)):\n",
    "        ts = np.vstack([ts, t[lf[i]-100:lf[i]+150]])\n",
    "        # break\n",
    "    # break"
   ]
  },
  {
   "cell_type": "code",
   "execution_count": 11,
   "metadata": {},
   "outputs": [
    {
     "data": {
      "text/plain": [
       "(162, 250)"
      ]
     },
     "execution_count": 11,
     "metadata": {},
     "output_type": "execute_result"
    }
   ],
   "source": [
    "np.shape(ts)"
   ]
  },
  {
   "cell_type": "code",
   "execution_count": 12,
   "metadata": {},
   "outputs": [],
   "source": [
    "t1 = pd.DataFrame(ts)\n",
    "t1['Activity'] = 0"
   ]
  },
  {
   "cell_type": "code",
   "execution_count": 13,
   "metadata": {},
   "outputs": [],
   "source": [
    "# for i in range(len(ts)):\n",
    "#     plt.figure()\n",
    "#     plt.plot(ts[i,:])\n",
    "#     plt.margins(x=0)"
   ]
  },
  {
   "cell_type": "code",
   "execution_count": 14,
   "metadata": {},
   "outputs": [],
   "source": [
    "path = r'C:\\Users\\bansa\\Documents\\Python\\csio_rw\\Data\\Seismic Data\\Run'\n",
    "dir_list = os.listdir(path)\n",
    "\n",
    "df = pd.DataFrame()\n",
    "\n",
    "for file in dir_list:\n",
    "    mat = scipy.io.loadmat(path+'\\\\'+file)\n",
    "    # print(m.keys())\n",
    "    b = mat['Data1_SNG20DX10Hz1']\n",
    "    \n",
    "    b = pd.DataFrame((b - np.mean(b))/20)\n",
    "    df = pd.concat([df, b], axis=1)\n",
    "\n",
    "df = df.fillna(0)\n",
    "df = df.T.reset_index().drop('index',axis=1).T\n"
   ]
  },
  {
   "cell_type": "code",
   "execution_count": 15,
   "metadata": {},
   "outputs": [],
   "source": [
    "ts = np.empty([0,250])\n",
    "\n",
    "for j in range(df.shape[1]):\n",
    "    \n",
    "    t = df[j]\n",
    "\n",
    "    l = []\n",
    "    th1 = 0.00002 \n",
    "    th2 = -0.00002\n",
    "    for i in range(len(t)):\n",
    "        if t[i]>th1 or t[i]<th2:\n",
    "            l.append(i)\n",
    "    # print(l)\n",
    "\n",
    "    lf = []\n",
    "    lf.append(l[0])\n",
    "    for i in range(len(l)-1):\n",
    "        if l[i]+150 < l[i+1]:\n",
    "            lf.append(l[i+1])\n",
    "    # print(lf)\n",
    "\n",
    "    for i in range(len(lf)):\n",
    "        ts = np.vstack([ts, t[lf[i]-100:lf[i]+150]])\n",
    "        # break\n",
    "    # break"
   ]
  },
  {
   "cell_type": "code",
   "execution_count": 16,
   "metadata": {},
   "outputs": [
    {
     "data": {
      "text/plain": [
       "(147, 250)"
      ]
     },
     "execution_count": 16,
     "metadata": {},
     "output_type": "execute_result"
    }
   ],
   "source": [
    "np.shape(ts)"
   ]
  },
  {
   "cell_type": "code",
   "execution_count": 17,
   "metadata": {},
   "outputs": [],
   "source": [
    "# for i in range(len(ts)):\n",
    "#     plt.figure()\n",
    "#     plt.plot(ts[i,:])\n",
    "#     plt.margins(x=0)"
   ]
  },
  {
   "cell_type": "code",
   "execution_count": 18,
   "metadata": {},
   "outputs": [],
   "source": [
    "t2 = pd.DataFrame(ts)\n",
    "t2['Activity'] = 1"
   ]
  },
  {
   "cell_type": "code",
   "execution_count": 19,
   "metadata": {},
   "outputs": [],
   "source": [
    "# t1"
   ]
  },
  {
   "cell_type": "code",
   "execution_count": 20,
   "metadata": {},
   "outputs": [],
   "source": [
    "# t2"
   ]
  },
  {
   "cell_type": "code",
   "execution_count": 21,
   "metadata": {},
   "outputs": [],
   "source": [
    "df = pd.DataFrame()\n",
    "df = pd.concat([t1, t2], axis=0)\n",
    "df = df.sample(frac = 1)\n",
    "df = df.reset_index().drop('index',axis=1)\n",
    "# df"
   ]
  },
  {
   "cell_type": "code",
   "execution_count": null,
   "metadata": {},
   "outputs": [],
   "source": []
  }
 ],
 "metadata": {
  "kernelspec": {
   "display_name": "Python 3.9.12 ('Project_1')",
   "language": "python",
   "name": "python3"
  },
  "language_info": {
   "codemirror_mode": {
    "name": "ipython",
    "version": 3
   },
   "file_extension": ".py",
   "mimetype": "text/x-python",
   "name": "python",
   "nbconvert_exporter": "python",
   "pygments_lexer": "ipython3",
   "version": "3.9.12"
  },
  "orig_nbformat": 4,
  "vscode": {
   "interpreter": {
    "hash": "a207a67ed240105ce131faa714960a48f5aa8a6241d2d51aa2994e6ae2b0cf0f"
   }
  }
 },
 "nbformat": 4,
 "nbformat_minor": 2
}
